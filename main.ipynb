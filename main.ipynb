{
 "cells": [
  {
   "cell_type": "code",
   "execution_count": 1,
   "metadata": {},
   "outputs": [
    {
     "name": "stdout",
     "output_type": "stream",
     "text": [
      "Data 2023 telah disimpan.\n",
      "Data 2024 telah disimpan.\n"
     ]
    }
   ],
   "source": [
    "from strategi import GetData as get\n",
    "import pickle\n",
    "from datetime import datetime\n",
    "import pytz\n",
    "\n",
    "wib = pytz.timezone('Asia/Jakarta')\n",
    "now = datetime.now(wib)\n",
    "timestamp = now.strftime(\"%Y-%m-%d_%H-%M-%S\")\n",
    "\n",
    "years = [2023, 2024]\n",
    "for year in years:\n",
    "    renops = get.Renops(tahun=year)\n",
    "    komparasi = get.Komparasi(tahun=year)\n",
    "\n",
    "    # Membuat objek parent yang mencakup data dari GetRenops dan GetKomparasi\n",
    "    data = get()\n",
    "    data.renops = renops\n",
    "    data.komparasi = komparasi\n",
    "\n",
    "    # Menyimpan objek parent_data (yang mencakup GetRenops dan GetKomparasi) ke file dengan pickle\n",
    "    with open(f'{timestamp}_data_{year}.pkl', 'wb') as file:\n",
    "        pickle.dump(data, file)\n",
    "\n",
    "    print(f\"Data {year} telah disimpan.\")"
   ]
  },
  {
   "cell_type": "code",
   "execution_count": 2,
   "metadata": {},
   "outputs": [
    {
     "name": "stdout",
     "output_type": "stream",
     "text": [
      "      moda  kumulatif\n",
      "0    jalan    3134227\n",
      "1     asdp    2743402\n",
      "2     laut    1671204\n",
      "3    udara    4845488\n",
      "4  stasiun    4087612\n",
      "      moda  kumulatif\n",
      "0    jalan    3128735\n",
      "1     asdp    2741492\n",
      "2     laut    1671721\n",
      "3    udara    4816834\n",
      "4  stasiun    4073000\n"
     ]
    }
   ],
   "source": [
    "from strategi import GetData as get\n",
    "import pickle\n",
    "\n",
    "with open('data_2024.pkl', 'rb') as file:\n",
    "    data = pickle.load(file)\n",
    "\n",
    "# Akses data yang ada di dalam parent_data setelah dibaca\n",
    "print(data.renops.kumulatif)\n",
    "print(data.komparasi.kumulatif)\n"
   ]
  },
  {
   "cell_type": "code",
   "execution_count": null,
   "metadata": {},
   "outputs": [],
   "source": []
  }
 ],
 "metadata": {
  "kernelspec": {
   "display_name": "venv",
   "language": "python",
   "name": "python3"
  },
  "language_info": {
   "codemirror_mode": {
    "name": "ipython",
    "version": 3
   },
   "file_extension": ".py",
   "mimetype": "text/x-python",
   "name": "python",
   "nbconvert_exporter": "python",
   "pygments_lexer": "ipython3",
   "version": "3.13.1"
  }
 },
 "nbformat": 4,
 "nbformat_minor": 2
}
